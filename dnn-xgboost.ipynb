{
 "cells": [
  {
   "cell_type": "code",
   "execution_count": 1,
   "id": "74109485",
   "metadata": {
    "_cell_guid": "b1076dfc-b9ad-4769-8c92-a6c4dae69d19",
    "_uuid": "8f2839f25d086af736a60e9eeb907d3b93b6e0e5",
    "execution": {
     "iopub.execute_input": "2024-10-31T12:00:24.097467Z",
     "iopub.status.busy": "2024-10-31T12:00:24.097023Z",
     "iopub.status.idle": "2024-10-31T12:00:25.254361Z",
     "shell.execute_reply": "2024-10-31T12:00:25.252835Z"
    },
    "papermill": {
     "duration": 1.178246,
     "end_time": "2024-10-31T12:00:25.257414",
     "exception": false,
     "start_time": "2024-10-31T12:00:24.079168",
     "status": "completed"
    },
    "tags": []
   },
   "outputs": [
    {
     "name": "stdout",
     "output_type": "stream",
     "text": [
      "/kaggle/input/data02/Base.csv\n",
      "/kaggle/input/data01/creditcard.csv\n"
     ]
    }
   ],
   "source": [
    "# This Python 3 environment comes with many helpful analytics libraries installed\n",
    "# It is defined by the kaggle/python Docker image: https://github.com/kaggle/docker-python\n",
    "# For example, here's several helpful packages to load\n",
    "\n",
    "import numpy as np # linear algebra\n",
    "import pandas as pd # data processing, CSV file I/O (e.g. pd.read_csv)\n",
    "\n",
    "# Input data files are available in the read-only \"../input/\" directory\n",
    "# For example, running this (by clicking run or pressing Shift+Enter) will list all files under the input directory\n",
    "\n",
    "import os\n",
    "for dirname, _, filenames in os.walk('/kaggle/input'):\n",
    "    for filename in filenames:\n",
    "        print(os.path.join(dirname, filename))\n",
    "\n",
    "# You can write up to 20GB to the current directory (/kaggle/working/) that gets preserved as output when you create a version using \"Save & Run All\" \n",
    "# You can also write temporary files to /kaggle/temp/, but they won't be saved outside of the current session"
   ]
  },
  {
   "cell_type": "code",
   "execution_count": 2,
   "id": "7d69e82f",
   "metadata": {
    "execution": {
     "iopub.execute_input": "2024-10-31T12:00:25.292382Z",
     "iopub.status.busy": "2024-10-31T12:00:25.291820Z",
     "iopub.status.idle": "2024-10-31T12:00:45.192341Z",
     "shell.execute_reply": "2024-10-31T12:00:45.190914Z"
    },
    "papermill": {
     "duration": 19.922672,
     "end_time": "2024-10-31T12:00:45.195944",
     "exception": false,
     "start_time": "2024-10-31T12:00:25.273272",
     "status": "completed"
    },
    "tags": []
   },
   "outputs": [],
   "source": [
    "import warnings\n",
    "warnings.filterwarnings('ignore')\n",
    "import pandas as pd\n",
    "import numpy as np\n",
    "import keras\n",
    "import os\n",
    "import matplotlib.pyplot as plt\n",
    "import seaborn as sns\n",
    "import itertools\n",
    "from collections import Counter\n",
    "np.random.seed(2)\n",
    "from sklearn.preprocessing import StandardScaler\n",
    "from sklearn.model_selection import train_test_split\n",
    "from sklearn.metrics import confusion_matrix, accuracy_score, precision_score, f1_score, recall_score\n",
    "from imblearn.over_sampling import SMOTE\n",
    "from keras.models import Sequential\n",
    "from keras.layers import Dense\n",
    "from keras.layers import Dropout"
   ]
  },
  {
   "cell_type": "code",
   "execution_count": 3,
   "id": "38dddb50",
   "metadata": {
    "execution": {
     "iopub.execute_input": "2024-10-31T12:00:45.229659Z",
     "iopub.status.busy": "2024-10-31T12:00:45.228173Z",
     "iopub.status.idle": "2024-10-31T12:00:50.002909Z",
     "shell.execute_reply": "2024-10-31T12:00:50.001425Z"
    },
    "papermill": {
     "duration": 4.79469,
     "end_time": "2024-10-31T12:00:50.005835",
     "exception": false,
     "start_time": "2024-10-31T12:00:45.211145",
     "status": "completed"
    },
    "tags": []
   },
   "outputs": [
    {
     "data": {
      "text/html": [
       "<div>\n",
       "<style scoped>\n",
       "    .dataframe tbody tr th:only-of-type {\n",
       "        vertical-align: middle;\n",
       "    }\n",
       "\n",
       "    .dataframe tbody tr th {\n",
       "        vertical-align: top;\n",
       "    }\n",
       "\n",
       "    .dataframe thead th {\n",
       "        text-align: right;\n",
       "    }\n",
       "</style>\n",
       "<table border=\"1\" class=\"dataframe\">\n",
       "  <thead>\n",
       "    <tr style=\"text-align: right;\">\n",
       "      <th></th>\n",
       "      <th>Time</th>\n",
       "      <th>V1</th>\n",
       "      <th>V2</th>\n",
       "      <th>V3</th>\n",
       "      <th>V4</th>\n",
       "      <th>V5</th>\n",
       "      <th>V6</th>\n",
       "      <th>V7</th>\n",
       "      <th>V8</th>\n",
       "      <th>V9</th>\n",
       "      <th>...</th>\n",
       "      <th>V21</th>\n",
       "      <th>V22</th>\n",
       "      <th>V23</th>\n",
       "      <th>V24</th>\n",
       "      <th>V25</th>\n",
       "      <th>V26</th>\n",
       "      <th>V27</th>\n",
       "      <th>V28</th>\n",
       "      <th>Amount</th>\n",
       "      <th>Class</th>\n",
       "    </tr>\n",
       "  </thead>\n",
       "  <tbody>\n",
       "    <tr>\n",
       "      <th>0</th>\n",
       "      <td>0.0</td>\n",
       "      <td>-1.359807</td>\n",
       "      <td>-0.072781</td>\n",
       "      <td>2.536347</td>\n",
       "      <td>1.378155</td>\n",
       "      <td>-0.338321</td>\n",
       "      <td>0.462388</td>\n",
       "      <td>0.239599</td>\n",
       "      <td>0.098698</td>\n",
       "      <td>0.363787</td>\n",
       "      <td>...</td>\n",
       "      <td>-0.018307</td>\n",
       "      <td>0.277838</td>\n",
       "      <td>-0.110474</td>\n",
       "      <td>0.066928</td>\n",
       "      <td>0.128539</td>\n",
       "      <td>-0.189115</td>\n",
       "      <td>0.133558</td>\n",
       "      <td>-0.021053</td>\n",
       "      <td>149.62</td>\n",
       "      <td>0</td>\n",
       "    </tr>\n",
       "    <tr>\n",
       "      <th>1</th>\n",
       "      <td>0.0</td>\n",
       "      <td>1.191857</td>\n",
       "      <td>0.266151</td>\n",
       "      <td>0.166480</td>\n",
       "      <td>0.448154</td>\n",
       "      <td>0.060018</td>\n",
       "      <td>-0.082361</td>\n",
       "      <td>-0.078803</td>\n",
       "      <td>0.085102</td>\n",
       "      <td>-0.255425</td>\n",
       "      <td>...</td>\n",
       "      <td>-0.225775</td>\n",
       "      <td>-0.638672</td>\n",
       "      <td>0.101288</td>\n",
       "      <td>-0.339846</td>\n",
       "      <td>0.167170</td>\n",
       "      <td>0.125895</td>\n",
       "      <td>-0.008983</td>\n",
       "      <td>0.014724</td>\n",
       "      <td>2.69</td>\n",
       "      <td>0</td>\n",
       "    </tr>\n",
       "    <tr>\n",
       "      <th>2</th>\n",
       "      <td>1.0</td>\n",
       "      <td>-1.358354</td>\n",
       "      <td>-1.340163</td>\n",
       "      <td>1.773209</td>\n",
       "      <td>0.379780</td>\n",
       "      <td>-0.503198</td>\n",
       "      <td>1.800499</td>\n",
       "      <td>0.791461</td>\n",
       "      <td>0.247676</td>\n",
       "      <td>-1.514654</td>\n",
       "      <td>...</td>\n",
       "      <td>0.247998</td>\n",
       "      <td>0.771679</td>\n",
       "      <td>0.909412</td>\n",
       "      <td>-0.689281</td>\n",
       "      <td>-0.327642</td>\n",
       "      <td>-0.139097</td>\n",
       "      <td>-0.055353</td>\n",
       "      <td>-0.059752</td>\n",
       "      <td>378.66</td>\n",
       "      <td>0</td>\n",
       "    </tr>\n",
       "    <tr>\n",
       "      <th>3</th>\n",
       "      <td>1.0</td>\n",
       "      <td>-0.966272</td>\n",
       "      <td>-0.185226</td>\n",
       "      <td>1.792993</td>\n",
       "      <td>-0.863291</td>\n",
       "      <td>-0.010309</td>\n",
       "      <td>1.247203</td>\n",
       "      <td>0.237609</td>\n",
       "      <td>0.377436</td>\n",
       "      <td>-1.387024</td>\n",
       "      <td>...</td>\n",
       "      <td>-0.108300</td>\n",
       "      <td>0.005274</td>\n",
       "      <td>-0.190321</td>\n",
       "      <td>-1.175575</td>\n",
       "      <td>0.647376</td>\n",
       "      <td>-0.221929</td>\n",
       "      <td>0.062723</td>\n",
       "      <td>0.061458</td>\n",
       "      <td>123.50</td>\n",
       "      <td>0</td>\n",
       "    </tr>\n",
       "    <tr>\n",
       "      <th>4</th>\n",
       "      <td>2.0</td>\n",
       "      <td>-1.158233</td>\n",
       "      <td>0.877737</td>\n",
       "      <td>1.548718</td>\n",
       "      <td>0.403034</td>\n",
       "      <td>-0.407193</td>\n",
       "      <td>0.095921</td>\n",
       "      <td>0.592941</td>\n",
       "      <td>-0.270533</td>\n",
       "      <td>0.817739</td>\n",
       "      <td>...</td>\n",
       "      <td>-0.009431</td>\n",
       "      <td>0.798278</td>\n",
       "      <td>-0.137458</td>\n",
       "      <td>0.141267</td>\n",
       "      <td>-0.206010</td>\n",
       "      <td>0.502292</td>\n",
       "      <td>0.219422</td>\n",
       "      <td>0.215153</td>\n",
       "      <td>69.99</td>\n",
       "      <td>0</td>\n",
       "    </tr>\n",
       "  </tbody>\n",
       "</table>\n",
       "<p>5 rows × 31 columns</p>\n",
       "</div>"
      ],
      "text/plain": [
       "   Time        V1        V2        V3        V4        V5        V6        V7  \\\n",
       "0   0.0 -1.359807 -0.072781  2.536347  1.378155 -0.338321  0.462388  0.239599   \n",
       "1   0.0  1.191857  0.266151  0.166480  0.448154  0.060018 -0.082361 -0.078803   \n",
       "2   1.0 -1.358354 -1.340163  1.773209  0.379780 -0.503198  1.800499  0.791461   \n",
       "3   1.0 -0.966272 -0.185226  1.792993 -0.863291 -0.010309  1.247203  0.237609   \n",
       "4   2.0 -1.158233  0.877737  1.548718  0.403034 -0.407193  0.095921  0.592941   \n",
       "\n",
       "         V8        V9  ...       V21       V22       V23       V24       V25  \\\n",
       "0  0.098698  0.363787  ... -0.018307  0.277838 -0.110474  0.066928  0.128539   \n",
       "1  0.085102 -0.255425  ... -0.225775 -0.638672  0.101288 -0.339846  0.167170   \n",
       "2  0.247676 -1.514654  ...  0.247998  0.771679  0.909412 -0.689281 -0.327642   \n",
       "3  0.377436 -1.387024  ... -0.108300  0.005274 -0.190321 -1.175575  0.647376   \n",
       "4 -0.270533  0.817739  ... -0.009431  0.798278 -0.137458  0.141267 -0.206010   \n",
       "\n",
       "        V26       V27       V28  Amount  Class  \n",
       "0 -0.189115  0.133558 -0.021053  149.62      0  \n",
       "1  0.125895 -0.008983  0.014724    2.69      0  \n",
       "2 -0.139097 -0.055353 -0.059752  378.66      0  \n",
       "3 -0.221929  0.062723  0.061458  123.50      0  \n",
       "4  0.502292  0.219422  0.215153   69.99      0  \n",
       "\n",
       "[5 rows x 31 columns]"
      ]
     },
     "execution_count": 3,
     "metadata": {},
     "output_type": "execute_result"
    }
   ],
   "source": [
    "data = pd.read_csv('/kaggle/input/data01/creditcard.csv')\n",
    "data.head(5)"
   ]
  },
  {
   "cell_type": "markdown",
   "id": "b69a4dc6",
   "metadata": {
    "papermill": {
     "duration": 0.015154,
     "end_time": "2024-10-31T12:00:50.036509",
     "exception": false,
     "start_time": "2024-10-31T12:00:50.021355",
     "status": "completed"
    },
    "tags": []
   },
   "source": [
    "# EDA"
   ]
  },
  {
   "cell_type": "code",
   "execution_count": 4,
   "id": "dcab0d88",
   "metadata": {
    "execution": {
     "iopub.execute_input": "2024-10-31T12:00:50.089465Z",
     "iopub.status.busy": "2024-10-31T12:00:50.088271Z",
     "iopub.status.idle": "2024-10-31T12:00:50.097002Z",
     "shell.execute_reply": "2024-10-31T12:00:50.095638Z"
    },
    "papermill": {
     "duration": 0.028418,
     "end_time": "2024-10-31T12:00:50.099549",
     "exception": false,
     "start_time": "2024-10-31T12:00:50.071131",
     "status": "completed"
    },
    "tags": []
   },
   "outputs": [
    {
     "data": {
      "text/plain": [
       "(284807, 31)"
      ]
     },
     "execution_count": 4,
     "metadata": {},
     "output_type": "execute_result"
    }
   ],
   "source": [
    "data.shape"
   ]
  },
  {
   "cell_type": "code",
   "execution_count": 5,
   "id": "7858bb74",
   "metadata": {
    "execution": {
     "iopub.execute_input": "2024-10-31T12:00:50.134494Z",
     "iopub.status.busy": "2024-10-31T12:00:50.133392Z",
     "iopub.status.idle": "2024-10-31T12:00:50.184604Z",
     "shell.execute_reply": "2024-10-31T12:00:50.183141Z"
    },
    "papermill": {
     "duration": 0.072385,
     "end_time": "2024-10-31T12:00:50.187868",
     "exception": false,
     "start_time": "2024-10-31T12:00:50.115483",
     "status": "completed"
    },
    "tags": []
   },
   "outputs": [
    {
     "name": "stdout",
     "output_type": "stream",
     "text": [
      "<class 'pandas.core.frame.DataFrame'>\n",
      "RangeIndex: 284807 entries, 0 to 284806\n",
      "Data columns (total 31 columns):\n",
      " #   Column  Non-Null Count   Dtype  \n",
      "---  ------  --------------   -----  \n",
      " 0   Time    284807 non-null  float64\n",
      " 1   V1      284807 non-null  float64\n",
      " 2   V2      284807 non-null  float64\n",
      " 3   V3      284807 non-null  float64\n",
      " 4   V4      284807 non-null  float64\n",
      " 5   V5      284807 non-null  float64\n",
      " 6   V6      284807 non-null  float64\n",
      " 7   V7      284807 non-null  float64\n",
      " 8   V8      284807 non-null  float64\n",
      " 9   V9      284807 non-null  float64\n",
      " 10  V10     284807 non-null  float64\n",
      " 11  V11     284807 non-null  float64\n",
      " 12  V12     284807 non-null  float64\n",
      " 13  V13     284807 non-null  float64\n",
      " 14  V14     284807 non-null  float64\n",
      " 15  V15     284807 non-null  float64\n",
      " 16  V16     284807 non-null  float64\n",
      " 17  V17     284807 non-null  float64\n",
      " 18  V18     284807 non-null  float64\n",
      " 19  V19     284807 non-null  float64\n",
      " 20  V20     284807 non-null  float64\n",
      " 21  V21     284807 non-null  float64\n",
      " 22  V22     284807 non-null  float64\n",
      " 23  V23     284807 non-null  float64\n",
      " 24  V24     284807 non-null  float64\n",
      " 25  V25     284807 non-null  float64\n",
      " 26  V26     284807 non-null  float64\n",
      " 27  V27     284807 non-null  float64\n",
      " 28  V28     284807 non-null  float64\n",
      " 29  Amount  284807 non-null  float64\n",
      " 30  Class   284807 non-null  int64  \n",
      "dtypes: float64(30), int64(1)\n",
      "memory usage: 67.4 MB\n"
     ]
    }
   ],
   "source": [
    "data.info()"
   ]
  },
  {
   "cell_type": "code",
   "execution_count": 6,
   "id": "d8cfaf60",
   "metadata": {
    "execution": {
     "iopub.execute_input": "2024-10-31T12:00:50.226342Z",
     "iopub.status.busy": "2024-10-31T12:00:50.225822Z",
     "iopub.status.idle": "2024-10-31T12:00:50.810197Z",
     "shell.execute_reply": "2024-10-31T12:00:50.808472Z"
    },
    "papermill": {
     "duration": 0.606158,
     "end_time": "2024-10-31T12:00:50.813512",
     "exception": false,
     "start_time": "2024-10-31T12:00:50.207354",
     "status": "completed"
    },
    "tags": []
   },
   "outputs": [
    {
     "data": {
      "text/html": [
       "<div>\n",
       "<style scoped>\n",
       "    .dataframe tbody tr th:only-of-type {\n",
       "        vertical-align: middle;\n",
       "    }\n",
       "\n",
       "    .dataframe tbody tr th {\n",
       "        vertical-align: top;\n",
       "    }\n",
       "\n",
       "    .dataframe thead th {\n",
       "        text-align: right;\n",
       "    }\n",
       "</style>\n",
       "<table border=\"1\" class=\"dataframe\">\n",
       "  <thead>\n",
       "    <tr style=\"text-align: right;\">\n",
       "      <th></th>\n",
       "      <th>Time</th>\n",
       "      <th>V1</th>\n",
       "      <th>V2</th>\n",
       "      <th>V3</th>\n",
       "      <th>V4</th>\n",
       "      <th>V5</th>\n",
       "      <th>V6</th>\n",
       "      <th>V7</th>\n",
       "      <th>V8</th>\n",
       "      <th>V9</th>\n",
       "      <th>...</th>\n",
       "      <th>V21</th>\n",
       "      <th>V22</th>\n",
       "      <th>V23</th>\n",
       "      <th>V24</th>\n",
       "      <th>V25</th>\n",
       "      <th>V26</th>\n",
       "      <th>V27</th>\n",
       "      <th>V28</th>\n",
       "      <th>Amount</th>\n",
       "      <th>Class</th>\n",
       "    </tr>\n",
       "  </thead>\n",
       "  <tbody>\n",
       "    <tr>\n",
       "      <th>count</th>\n",
       "      <td>284807.000000</td>\n",
       "      <td>2.848070e+05</td>\n",
       "      <td>2.848070e+05</td>\n",
       "      <td>2.848070e+05</td>\n",
       "      <td>2.848070e+05</td>\n",
       "      <td>2.848070e+05</td>\n",
       "      <td>2.848070e+05</td>\n",
       "      <td>2.848070e+05</td>\n",
       "      <td>2.848070e+05</td>\n",
       "      <td>2.848070e+05</td>\n",
       "      <td>...</td>\n",
       "      <td>2.848070e+05</td>\n",
       "      <td>2.848070e+05</td>\n",
       "      <td>2.848070e+05</td>\n",
       "      <td>2.848070e+05</td>\n",
       "      <td>2.848070e+05</td>\n",
       "      <td>2.848070e+05</td>\n",
       "      <td>2.848070e+05</td>\n",
       "      <td>2.848070e+05</td>\n",
       "      <td>284807.000000</td>\n",
       "      <td>284807.000000</td>\n",
       "    </tr>\n",
       "    <tr>\n",
       "      <th>mean</th>\n",
       "      <td>94813.859575</td>\n",
       "      <td>1.168375e-15</td>\n",
       "      <td>3.416908e-16</td>\n",
       "      <td>-1.379537e-15</td>\n",
       "      <td>2.074095e-15</td>\n",
       "      <td>9.604066e-16</td>\n",
       "      <td>1.487313e-15</td>\n",
       "      <td>-5.556467e-16</td>\n",
       "      <td>1.213481e-16</td>\n",
       "      <td>-2.406331e-15</td>\n",
       "      <td>...</td>\n",
       "      <td>1.654067e-16</td>\n",
       "      <td>-3.568593e-16</td>\n",
       "      <td>2.578648e-16</td>\n",
       "      <td>4.473266e-15</td>\n",
       "      <td>5.340915e-16</td>\n",
       "      <td>1.683437e-15</td>\n",
       "      <td>-3.660091e-16</td>\n",
       "      <td>-1.227390e-16</td>\n",
       "      <td>88.349619</td>\n",
       "      <td>0.001727</td>\n",
       "    </tr>\n",
       "    <tr>\n",
       "      <th>std</th>\n",
       "      <td>47488.145955</td>\n",
       "      <td>1.958696e+00</td>\n",
       "      <td>1.651309e+00</td>\n",
       "      <td>1.516255e+00</td>\n",
       "      <td>1.415869e+00</td>\n",
       "      <td>1.380247e+00</td>\n",
       "      <td>1.332271e+00</td>\n",
       "      <td>1.237094e+00</td>\n",
       "      <td>1.194353e+00</td>\n",
       "      <td>1.098632e+00</td>\n",
       "      <td>...</td>\n",
       "      <td>7.345240e-01</td>\n",
       "      <td>7.257016e-01</td>\n",
       "      <td>6.244603e-01</td>\n",
       "      <td>6.056471e-01</td>\n",
       "      <td>5.212781e-01</td>\n",
       "      <td>4.822270e-01</td>\n",
       "      <td>4.036325e-01</td>\n",
       "      <td>3.300833e-01</td>\n",
       "      <td>250.120109</td>\n",
       "      <td>0.041527</td>\n",
       "    </tr>\n",
       "    <tr>\n",
       "      <th>min</th>\n",
       "      <td>0.000000</td>\n",
       "      <td>-5.640751e+01</td>\n",
       "      <td>-7.271573e+01</td>\n",
       "      <td>-4.832559e+01</td>\n",
       "      <td>-5.683171e+00</td>\n",
       "      <td>-1.137433e+02</td>\n",
       "      <td>-2.616051e+01</td>\n",
       "      <td>-4.355724e+01</td>\n",
       "      <td>-7.321672e+01</td>\n",
       "      <td>-1.343407e+01</td>\n",
       "      <td>...</td>\n",
       "      <td>-3.483038e+01</td>\n",
       "      <td>-1.093314e+01</td>\n",
       "      <td>-4.480774e+01</td>\n",
       "      <td>-2.836627e+00</td>\n",
       "      <td>-1.029540e+01</td>\n",
       "      <td>-2.604551e+00</td>\n",
       "      <td>-2.256568e+01</td>\n",
       "      <td>-1.543008e+01</td>\n",
       "      <td>0.000000</td>\n",
       "      <td>0.000000</td>\n",
       "    </tr>\n",
       "    <tr>\n",
       "      <th>25%</th>\n",
       "      <td>54201.500000</td>\n",
       "      <td>-9.203734e-01</td>\n",
       "      <td>-5.985499e-01</td>\n",
       "      <td>-8.903648e-01</td>\n",
       "      <td>-8.486401e-01</td>\n",
       "      <td>-6.915971e-01</td>\n",
       "      <td>-7.682956e-01</td>\n",
       "      <td>-5.540759e-01</td>\n",
       "      <td>-2.086297e-01</td>\n",
       "      <td>-6.430976e-01</td>\n",
       "      <td>...</td>\n",
       "      <td>-2.283949e-01</td>\n",
       "      <td>-5.423504e-01</td>\n",
       "      <td>-1.618463e-01</td>\n",
       "      <td>-3.545861e-01</td>\n",
       "      <td>-3.171451e-01</td>\n",
       "      <td>-3.269839e-01</td>\n",
       "      <td>-7.083953e-02</td>\n",
       "      <td>-5.295979e-02</td>\n",
       "      <td>5.600000</td>\n",
       "      <td>0.000000</td>\n",
       "    </tr>\n",
       "    <tr>\n",
       "      <th>50%</th>\n",
       "      <td>84692.000000</td>\n",
       "      <td>1.810880e-02</td>\n",
       "      <td>6.548556e-02</td>\n",
       "      <td>1.798463e-01</td>\n",
       "      <td>-1.984653e-02</td>\n",
       "      <td>-5.433583e-02</td>\n",
       "      <td>-2.741871e-01</td>\n",
       "      <td>4.010308e-02</td>\n",
       "      <td>2.235804e-02</td>\n",
       "      <td>-5.142873e-02</td>\n",
       "      <td>...</td>\n",
       "      <td>-2.945017e-02</td>\n",
       "      <td>6.781943e-03</td>\n",
       "      <td>-1.119293e-02</td>\n",
       "      <td>4.097606e-02</td>\n",
       "      <td>1.659350e-02</td>\n",
       "      <td>-5.213911e-02</td>\n",
       "      <td>1.342146e-03</td>\n",
       "      <td>1.124383e-02</td>\n",
       "      <td>22.000000</td>\n",
       "      <td>0.000000</td>\n",
       "    </tr>\n",
       "    <tr>\n",
       "      <th>75%</th>\n",
       "      <td>139320.500000</td>\n",
       "      <td>1.315642e+00</td>\n",
       "      <td>8.037239e-01</td>\n",
       "      <td>1.027196e+00</td>\n",
       "      <td>7.433413e-01</td>\n",
       "      <td>6.119264e-01</td>\n",
       "      <td>3.985649e-01</td>\n",
       "      <td>5.704361e-01</td>\n",
       "      <td>3.273459e-01</td>\n",
       "      <td>5.971390e-01</td>\n",
       "      <td>...</td>\n",
       "      <td>1.863772e-01</td>\n",
       "      <td>5.285536e-01</td>\n",
       "      <td>1.476421e-01</td>\n",
       "      <td>4.395266e-01</td>\n",
       "      <td>3.507156e-01</td>\n",
       "      <td>2.409522e-01</td>\n",
       "      <td>9.104512e-02</td>\n",
       "      <td>7.827995e-02</td>\n",
       "      <td>77.165000</td>\n",
       "      <td>0.000000</td>\n",
       "    </tr>\n",
       "    <tr>\n",
       "      <th>max</th>\n",
       "      <td>172792.000000</td>\n",
       "      <td>2.454930e+00</td>\n",
       "      <td>2.205773e+01</td>\n",
       "      <td>9.382558e+00</td>\n",
       "      <td>1.687534e+01</td>\n",
       "      <td>3.480167e+01</td>\n",
       "      <td>7.330163e+01</td>\n",
       "      <td>1.205895e+02</td>\n",
       "      <td>2.000721e+01</td>\n",
       "      <td>1.559499e+01</td>\n",
       "      <td>...</td>\n",
       "      <td>2.720284e+01</td>\n",
       "      <td>1.050309e+01</td>\n",
       "      <td>2.252841e+01</td>\n",
       "      <td>4.584549e+00</td>\n",
       "      <td>7.519589e+00</td>\n",
       "      <td>3.517346e+00</td>\n",
       "      <td>3.161220e+01</td>\n",
       "      <td>3.384781e+01</td>\n",
       "      <td>25691.160000</td>\n",
       "      <td>1.000000</td>\n",
       "    </tr>\n",
       "  </tbody>\n",
       "</table>\n",
       "<p>8 rows × 31 columns</p>\n",
       "</div>"
      ],
      "text/plain": [
       "                Time            V1            V2            V3            V4  \\\n",
       "count  284807.000000  2.848070e+05  2.848070e+05  2.848070e+05  2.848070e+05   \n",
       "mean    94813.859575  1.168375e-15  3.416908e-16 -1.379537e-15  2.074095e-15   \n",
       "std     47488.145955  1.958696e+00  1.651309e+00  1.516255e+00  1.415869e+00   \n",
       "min         0.000000 -5.640751e+01 -7.271573e+01 -4.832559e+01 -5.683171e+00   \n",
       "25%     54201.500000 -9.203734e-01 -5.985499e-01 -8.903648e-01 -8.486401e-01   \n",
       "50%     84692.000000  1.810880e-02  6.548556e-02  1.798463e-01 -1.984653e-02   \n",
       "75%    139320.500000  1.315642e+00  8.037239e-01  1.027196e+00  7.433413e-01   \n",
       "max    172792.000000  2.454930e+00  2.205773e+01  9.382558e+00  1.687534e+01   \n",
       "\n",
       "                 V5            V6            V7            V8            V9  \\\n",
       "count  2.848070e+05  2.848070e+05  2.848070e+05  2.848070e+05  2.848070e+05   \n",
       "mean   9.604066e-16  1.487313e-15 -5.556467e-16  1.213481e-16 -2.406331e-15   \n",
       "std    1.380247e+00  1.332271e+00  1.237094e+00  1.194353e+00  1.098632e+00   \n",
       "min   -1.137433e+02 -2.616051e+01 -4.355724e+01 -7.321672e+01 -1.343407e+01   \n",
       "25%   -6.915971e-01 -7.682956e-01 -5.540759e-01 -2.086297e-01 -6.430976e-01   \n",
       "50%   -5.433583e-02 -2.741871e-01  4.010308e-02  2.235804e-02 -5.142873e-02   \n",
       "75%    6.119264e-01  3.985649e-01  5.704361e-01  3.273459e-01  5.971390e-01   \n",
       "max    3.480167e+01  7.330163e+01  1.205895e+02  2.000721e+01  1.559499e+01   \n",
       "\n",
       "       ...           V21           V22           V23           V24  \\\n",
       "count  ...  2.848070e+05  2.848070e+05  2.848070e+05  2.848070e+05   \n",
       "mean   ...  1.654067e-16 -3.568593e-16  2.578648e-16  4.473266e-15   \n",
       "std    ...  7.345240e-01  7.257016e-01  6.244603e-01  6.056471e-01   \n",
       "min    ... -3.483038e+01 -1.093314e+01 -4.480774e+01 -2.836627e+00   \n",
       "25%    ... -2.283949e-01 -5.423504e-01 -1.618463e-01 -3.545861e-01   \n",
       "50%    ... -2.945017e-02  6.781943e-03 -1.119293e-02  4.097606e-02   \n",
       "75%    ...  1.863772e-01  5.285536e-01  1.476421e-01  4.395266e-01   \n",
       "max    ...  2.720284e+01  1.050309e+01  2.252841e+01  4.584549e+00   \n",
       "\n",
       "                V25           V26           V27           V28         Amount  \\\n",
       "count  2.848070e+05  2.848070e+05  2.848070e+05  2.848070e+05  284807.000000   \n",
       "mean   5.340915e-16  1.683437e-15 -3.660091e-16 -1.227390e-16      88.349619   \n",
       "std    5.212781e-01  4.822270e-01  4.036325e-01  3.300833e-01     250.120109   \n",
       "min   -1.029540e+01 -2.604551e+00 -2.256568e+01 -1.543008e+01       0.000000   \n",
       "25%   -3.171451e-01 -3.269839e-01 -7.083953e-02 -5.295979e-02       5.600000   \n",
       "50%    1.659350e-02 -5.213911e-02  1.342146e-03  1.124383e-02      22.000000   \n",
       "75%    3.507156e-01  2.409522e-01  9.104512e-02  7.827995e-02      77.165000   \n",
       "max    7.519589e+00  3.517346e+00  3.161220e+01  3.384781e+01   25691.160000   \n",
       "\n",
       "               Class  \n",
       "count  284807.000000  \n",
       "mean        0.001727  \n",
       "std         0.041527  \n",
       "min         0.000000  \n",
       "25%         0.000000  \n",
       "50%         0.000000  \n",
       "75%         0.000000  \n",
       "max         1.000000  \n",
       "\n",
       "[8 rows x 31 columns]"
      ]
     },
     "execution_count": 6,
     "metadata": {},
     "output_type": "execute_result"
    }
   ],
   "source": [
    "data.describe()"
   ]
  },
  {
   "cell_type": "code",
   "execution_count": 7,
   "id": "95f411d2",
   "metadata": {
    "execution": {
     "iopub.execute_input": "2024-10-31T12:00:50.848622Z",
     "iopub.status.busy": "2024-10-31T12:00:50.847650Z",
     "iopub.status.idle": "2024-10-31T12:00:50.869391Z",
     "shell.execute_reply": "2024-10-31T12:00:50.868355Z"
    },
    "papermill": {
     "duration": 0.041718,
     "end_time": "2024-10-31T12:00:50.871982",
     "exception": false,
     "start_time": "2024-10-31T12:00:50.830264",
     "status": "completed"
    },
    "tags": []
   },
   "outputs": [
    {
     "data": {
      "text/plain": [
       "0"
      ]
     },
     "execution_count": 7,
     "metadata": {},
     "output_type": "execute_result"
    }
   ],
   "source": [
    "data.isnull().sum().max()"
   ]
  },
  {
   "cell_type": "code",
   "execution_count": 8,
   "id": "e1390328",
   "metadata": {
    "execution": {
     "iopub.execute_input": "2024-10-31T12:00:50.906384Z",
     "iopub.status.busy": "2024-10-31T12:00:50.905969Z",
     "iopub.status.idle": "2024-10-31T12:00:50.913946Z",
     "shell.execute_reply": "2024-10-31T12:00:50.912774Z"
    },
    "papermill": {
     "duration": 0.028087,
     "end_time": "2024-10-31T12:00:50.916473",
     "exception": false,
     "start_time": "2024-10-31T12:00:50.888386",
     "status": "completed"
    },
    "tags": []
   },
   "outputs": [
    {
     "data": {
      "text/plain": [
       "Index(['Time', 'V1', 'V2', 'V3', 'V4', 'V5', 'V6', 'V7', 'V8', 'V9', 'V10',\n",
       "       'V11', 'V12', 'V13', 'V14', 'V15', 'V16', 'V17', 'V18', 'V19', 'V20',\n",
       "       'V21', 'V22', 'V23', 'V24', 'V25', 'V26', 'V27', 'V28', 'Amount',\n",
       "       'Class'],\n",
       "      dtype='object')"
      ]
     },
     "execution_count": 8,
     "metadata": {},
     "output_type": "execute_result"
    }
   ],
   "source": [
    "data.columns"
   ]
  },
  {
   "cell_type": "code",
   "execution_count": 9,
   "id": "84a49f8d",
   "metadata": {
    "execution": {
     "iopub.execute_input": "2024-10-31T12:00:50.951383Z",
     "iopub.status.busy": "2024-10-31T12:00:50.950392Z",
     "iopub.status.idle": "2024-10-31T12:00:50.967474Z",
     "shell.execute_reply": "2024-10-31T12:00:50.966153Z"
    },
    "papermill": {
     "duration": 0.037183,
     "end_time": "2024-10-31T12:00:50.970031",
     "exception": false,
     "start_time": "2024-10-31T12:00:50.932848",
     "status": "completed"
    },
    "tags": []
   },
   "outputs": [
    {
     "name": "stdout",
     "output_type": "stream",
     "text": [
      "No Frauds 99.83 % of the dataset\n",
      "Frauds 0.17 % of the dataset\n"
     ]
    }
   ],
   "source": [
    "print('No Frauds', round(data['Class'].value_counts()[0]/len(data) * 100,2), '% of the dataset')\n",
    "print('Frauds', round(data['Class'].value_counts()[1]/len(data) * 100,2), '% of the dataset')"
   ]
  },
  {
   "cell_type": "code",
   "execution_count": 10,
   "id": "d4e96adc",
   "metadata": {
    "execution": {
     "iopub.execute_input": "2024-10-31T12:00:51.004819Z",
     "iopub.status.busy": "2024-10-31T12:00:51.004346Z",
     "iopub.status.idle": "2024-10-31T12:00:51.023280Z",
     "shell.execute_reply": "2024-10-31T12:00:51.022089Z"
    },
    "papermill": {
     "duration": 0.03969,
     "end_time": "2024-10-31T12:00:51.026096",
     "exception": false,
     "start_time": "2024-10-31T12:00:50.986406",
     "status": "completed"
    },
    "tags": []
   },
   "outputs": [],
   "source": [
    "data = data.drop(\"Time\", axis=1)"
   ]
  },
  {
   "cell_type": "code",
   "execution_count": 11,
   "id": "df033ce4",
   "metadata": {
    "execution": {
     "iopub.execute_input": "2024-10-31T12:00:51.060850Z",
     "iopub.status.busy": "2024-10-31T12:00:51.059777Z",
     "iopub.status.idle": "2024-10-31T12:00:51.065316Z",
     "shell.execute_reply": "2024-10-31T12:00:51.064148Z"
    },
    "papermill": {
     "duration": 0.025525,
     "end_time": "2024-10-31T12:00:51.067824",
     "exception": false,
     "start_time": "2024-10-31T12:00:51.042299",
     "status": "completed"
    },
    "tags": []
   },
   "outputs": [],
   "source": [
    "from sklearn import preprocessing\n",
    "scaler = preprocessing.StandardScaler()"
   ]
  },
  {
   "cell_type": "code",
   "execution_count": 12,
   "id": "93d440da",
   "metadata": {
    "execution": {
     "iopub.execute_input": "2024-10-31T12:00:51.102587Z",
     "iopub.status.busy": "2024-10-31T12:00:51.102155Z",
     "iopub.status.idle": "2024-10-31T12:00:51.148946Z",
     "shell.execute_reply": "2024-10-31T12:00:51.147788Z"
    },
    "papermill": {
     "duration": 0.06733,
     "end_time": "2024-10-31T12:00:51.151800",
     "exception": false,
     "start_time": "2024-10-31T12:00:51.084470",
     "status": "completed"
    },
    "tags": []
   },
   "outputs": [],
   "source": [
    "#standard scaling\n",
    "data['std_Amount'] = scaler.fit_transform(data['Amount'].values.reshape (-1,1))\n",
    "\n",
    "#removing Amount\n",
    "data = data.drop(\"Amount\", axis=1)"
   ]
  },
  {
   "cell_type": "code",
   "execution_count": 13,
   "id": "229ebc84",
   "metadata": {
    "execution": {
     "iopub.execute_input": "2024-10-31T12:00:51.186097Z",
     "iopub.status.busy": "2024-10-31T12:00:51.185635Z",
     "iopub.status.idle": "2024-10-31T12:00:51.480826Z",
     "shell.execute_reply": "2024-10-31T12:00:51.479584Z"
    },
    "papermill": {
     "duration": 0.315297,
     "end_time": "2024-10-31T12:00:51.483386",
     "exception": false,
     "start_time": "2024-10-31T12:00:51.168089",
     "status": "completed"
    },
    "tags": []
   },
   "outputs": [
    {
     "data": {
      "text/plain": [
       "<Axes: xlabel='Class', ylabel='count'>"
      ]
     },
     "execution_count": 13,
     "metadata": {},
     "output_type": "execute_result"
    },
    {
     "data": {
      "image/png": "[encoded data removed]",
      "text/plain": [
       "<Figure size 640x480 with 1 Axes>"
      ]
     },
     "metadata": {},
     "output_type": "display_data"
    }
   ],
   "source": [
    "sns.countplot(x=\"Class\", data=data)"
   ]
  },
  {
   "cell_type": "markdown",
   "id": "3d398d02",
   "metadata": {
    "papermill": {
     "duration": 0.016405,
     "end_time": "2024-10-31T12:00:51.516565",
     "exception": false,
     "start_time": "2024-10-31T12:00:51.500160",
     "status": "completed"
    },
    "tags": []
   },
   "source": [
    "Data gặp tình trạng imbalanced "
   ]
  },
  {
   "cell_type": "markdown",
   "id": "f964490b",
   "metadata": {
    "papermill": {
     "duration": 0.01669,
     "end_time": "2024-10-31T12:00:51.550735",
     "exception": false,
     "start_time": "2024-10-31T12:00:51.534045",
     "status": "completed"
    },
    "tags": []
   },
   "source": [
    "# Undersampling"
   ]
  },
  {
   "cell_type": "code",
   "execution_count": 14,
   "id": "5494ae00",
   "metadata": {
    "execution": {
     "iopub.execute_input": "2024-10-31T12:00:51.586033Z",
     "iopub.status.busy": "2024-10-31T12:00:51.585573Z",
     "iopub.status.idle": "2024-10-31T12:00:51.591272Z",
     "shell.execute_reply": "2024-10-31T12:00:51.590075Z"
    },
    "papermill": {
     "duration": 0.02648,
     "end_time": "2024-10-31T12:00:51.593866",
     "exception": false,
     "start_time": "2024-10-31T12:00:51.567386",
     "status": "completed"
    },
    "tags": []
   },
   "outputs": [],
   "source": [
    "import imblearn\n",
    "from imblearn.under_sampling import RandomUnderSampler \n",
    "\n",
    "undersample = RandomUnderSampler(sampling_strategy=0.5)"
   ]
  },
  {
   "cell_type": "code",
   "execution_count": 15,
   "id": "dd7043c5",
   "metadata": {
    "execution": {
     "iopub.execute_input": "2024-10-31T12:00:51.629107Z",
     "iopub.status.busy": "2024-10-31T12:00:51.628657Z",
     "iopub.status.idle": "2024-10-31T12:00:51.634811Z",
     "shell.execute_reply": "2024-10-31T12:00:51.633517Z"
    },
    "papermill": {
     "duration": 0.026863,
     "end_time": "2024-10-31T12:00:51.637429",
     "exception": false,
     "start_time": "2024-10-31T12:00:51.610566",
     "status": "completed"
    },
    "tags": []
   },
   "outputs": [],
   "source": [
    "cols = data.columns.tolist()\n",
    "cols = [c for c in cols if c not in [\"Class\"]]\n",
    "target = \"Class\""
   ]
  },
  {
   "cell_type": "code",
   "execution_count": 16,
   "id": "4825b1f8",
   "metadata": {
    "execution": {
     "iopub.execute_input": "2024-10-31T12:00:51.673027Z",
     "iopub.status.busy": "2024-10-31T12:00:51.672571Z",
     "iopub.status.idle": "2024-10-31T12:00:51.783162Z",
     "shell.execute_reply": "2024-10-31T12:00:51.781994Z"
    },
    "papermill": {
     "duration": 0.131783,
     "end_time": "2024-10-31T12:00:51.786017",
     "exception": false,
     "start_time": "2024-10-31T12:00:51.654234",
     "status": "completed"
    },
    "tags": []
   },
   "outputs": [],
   "source": [
    "#define X and Y\n",
    "X = data[cols]\n",
    "Y = data[target]\n",
    "\n",
    "#undersample\n",
    "X_under, Y_under = undersample.fit_resample(X, Y)"
   ]
  },
  {
   "cell_type": "code",
   "execution_count": 17,
   "id": "52aff773",
   "metadata": {
    "execution": {
     "iopub.execute_input": "2024-10-31T12:00:51.821849Z",
     "iopub.status.busy": "2024-10-31T12:00:51.820857Z",
     "iopub.status.idle": "2024-10-31T12:00:51.827790Z",
     "shell.execute_reply": "2024-10-31T12:00:51.826637Z"
    },
    "papermill": {
     "duration": 0.027483,
     "end_time": "2024-10-31T12:00:51.830271",
     "exception": false,
     "start_time": "2024-10-31T12:00:51.802788",
     "status": "completed"
    },
    "tags": []
   },
   "outputs": [],
   "source": [
    "from pandas import DataFrame\n",
    "test = pd.DataFrame(Y_under, columns = ['Class'])"
   ]
  },
  {
   "cell_type": "code",
   "execution_count": 18,
   "id": "26d9bbed",
   "metadata": {
    "execution": {
     "iopub.execute_input": "2024-10-31T12:00:51.865531Z",
     "iopub.status.busy": "2024-10-31T12:00:51.865108Z",
     "iopub.status.idle": "2024-10-31T12:00:52.313030Z",
     "shell.execute_reply": "2024-10-31T12:00:52.311810Z"
    },
    "papermill": {
     "duration": 0.468956,
     "end_time": "2024-10-31T12:00:52.315932",
     "exception": false,
     "start_time": "2024-10-31T12:00:51.846976",
     "status": "completed"
    },
    "tags": []
   },
   "outputs": [
    {
     "data": {
      "text/plain": [
       "Text(0.5, 1.0, 'After')"
      ]
     },
     "execution_count": 18,
     "metadata": {},
     "output_type": "execute_result"
    },
    {
     "data": {
      "image/png": "[encoded data removed]",
      "text/plain": [
       "<Figure size 1300x450 with 2 Axes>"
      ]
     },
     "metadata": {},
     "output_type": "display_data"
    }
   ],
   "source": [
    "#visualizing undersampling results\n",
    "fig, axs = plt.subplots(ncols=2, figsize=(13,4.5))\n",
    "sns.countplot(x=\"Class\", data=data, ax=axs[0])\n",
    "sns.countplot(x=\"Class\", data=test, ax=axs[1])\n",
    "\n",
    "fig.suptitle(\"Class repartition before and after undersampling\")\n",
    "a1=fig.axes[0]\n",
    "a1.set_title(\"Before\")\n",
    "a2=fig.axes[1]\n",
    "a2.set_title(\"After\")"
   ]
  },
  {
   "cell_type": "code",
   "execution_count": 19,
   "id": "ec308b5f",
   "metadata": {
    "execution": {
     "iopub.execute_input": "2024-10-31T12:00:52.354303Z",
     "iopub.status.busy": "2024-10-31T12:00:52.353189Z",
     "iopub.status.idle": "2024-10-31T12:00:52.363781Z",
     "shell.execute_reply": "2024-10-31T12:00:52.362577Z"
    },
    "papermill": {
     "duration": 0.032998,
     "end_time": "2024-10-31T12:00:52.366539",
     "exception": false,
     "start_time": "2024-10-31T12:00:52.333541",
     "status": "completed"
    },
    "tags": []
   },
   "outputs": [],
   "source": [
    "from sklearn.model_selection import train_test_split\n",
    "\n",
    "X_train, X_test, y_train, y_test = train_test_split(X_under, Y_under, test_size=0.2, random_state=1)"
   ]
  },
  {
   "cell_type": "code",
   "execution_count": 20,
   "id": "1d7a9abd",
   "metadata": {
    "execution": {
     "iopub.execute_input": "2024-10-31T12:00:52.403613Z",
     "iopub.status.busy": "2024-10-31T12:00:52.403167Z",
     "iopub.status.idle": "2024-10-31T12:00:52.749649Z",
     "shell.execute_reply": "2024-10-31T12:00:52.748477Z"
    },
    "papermill": {
     "duration": 0.3684,
     "end_time": "2024-10-31T12:00:52.752495",
     "exception": false,
     "start_time": "2024-10-31T12:00:52.384095",
     "status": "completed"
    },
    "tags": []
   },
   "outputs": [],
   "source": [
    "#importing packages for modeling\n",
    "from sklearn.linear_model import LogisticRegression\n",
    "from sklearn.svm import SVC\n",
    "from sklearn.ensemble import RandomForestClassifier\n",
    "from xgboost import XGBClassifier\n",
    "from sklearn.neural_network import MLPClassifier\n",
    "\n",
    "import tensorflow as tf\n",
    "from tensorflow import keras\n",
    "from tensorflow.keras import layers\n",
    "from keras.layers import Dropout\n",
    "from keras.models import Sequential\n",
    "from keras.layers import Dense\n",
    "from keras.layers import BatchNormalization\n",
    "\n",
    "from sklearn import metrics\n",
    "from sklearn.metrics import confusion_matrix\n",
    "from sklearn.metrics import roc_curve\n",
    "from sklearn.metrics import roc_auc_score\n",
    "from sklearn.metrics import auc\n",
    "from sklearn.metrics import precision_recall_curve"
   ]
  },
  {
   "cell_type": "markdown",
   "id": "2a1cb548",
   "metadata": {
    "papermill": {
     "duration": 0.017072,
     "end_time": "2024-10-31T12:00:52.788120",
     "exception": false,
     "start_time": "2024-10-31T12:00:52.771048",
     "status": "completed"
    },
    "tags": []
   },
   "source": [
    "# Ensemble learning : Boosting (XGBoost)"
   ]
  },
  {
   "cell_type": "code",
   "execution_count": 21,
   "id": "fe75737e",
   "metadata": {
    "execution": {
     "iopub.execute_input": "2024-10-31T12:00:52.824631Z",
     "iopub.status.busy": "2024-10-31T12:00:52.824188Z",
     "iopub.status.idle": "2024-10-31T12:00:53.044469Z",
     "shell.execute_reply": "2024-10-31T12:00:53.043461Z"
    },
    "papermill": {
     "duration": 0.2417,
     "end_time": "2024-10-31T12:00:53.047222",
     "exception": false,
     "start_time": "2024-10-31T12:00:52.805522",
     "status": "completed"
    },
    "tags": []
   },
   "outputs": [],
   "source": [
    "#train the model\n",
    "model1 = XGBClassifier(random_state=2)\n",
    "xgb = model1.fit(X_train, y_train)"
   ]
  },
  {
   "cell_type": "code",
   "execution_count": 22,
   "id": "a97acef6",
   "metadata": {
    "execution": {
     "iopub.execute_input": "2024-10-31T12:00:53.086655Z",
     "iopub.status.busy": "2024-10-31T12:00:53.085581Z",
     "iopub.status.idle": "2024-10-31T12:00:53.102677Z",
     "shell.execute_reply": "2024-10-31T12:00:53.101675Z"
    },
    "papermill": {
     "duration": 0.038759,
     "end_time": "2024-10-31T12:00:53.105295",
     "exception": false,
     "start_time": "2024-10-31T12:00:53.066536",
     "status": "completed"
    },
    "tags": []
   },
   "outputs": [],
   "source": [
    "#predictions\n",
    "y_pred_xgb = model1.predict(X_test) "
   ]
  },
  {
   "cell_type": "code",
   "execution_count": 23,
   "id": "9d541626",
   "metadata": {
    "execution": {
     "iopub.execute_input": "2024-10-31T12:00:53.145869Z",
     "iopub.status.busy": "2024-10-31T12:00:53.145432Z",
     "iopub.status.idle": "2024-10-31T12:00:53.164753Z",
     "shell.execute_reply": "2024-10-31T12:00:53.163405Z"
    },
    "papermill": {
     "duration": 0.041005,
     "end_time": "2024-10-31T12:00:53.167250",
     "exception": false,
     "start_time": "2024-10-31T12:00:53.126245",
     "status": "completed"
    },
    "tags": []
   },
   "outputs": [
    {
     "name": "stdout",
     "output_type": "stream",
     "text": [
      "Accuracy XGB: 0.9493243243243243\n",
      "Precision XGB: 0.9696969696969697\n",
      "Recall XGB: 0.8888888888888888\n",
      "F1 Score XGB: 0.927536231884058\n"
     ]
    }
   ],
   "source": [
    "#scores\n",
    "print(\"Accuracy XGB:\",metrics.accuracy_score(y_test, y_pred_xgb))\n",
    "print(\"Precision XGB:\",metrics.precision_score(y_test, y_pred_xgb))\n",
    "print(\"Recall XGB:\",metrics.recall_score(y_test, y_pred_xgb))\n",
    "print(\"F1 Score XGB:\",metrics.f1_score(y_test, y_pred_xgb))"
   ]
  },
  {
   "cell_type": "code",
   "execution_count": 24,
   "id": "422b56ff",
   "metadata": {
    "execution": {
     "iopub.execute_input": "2024-10-31T12:00:53.204964Z",
     "iopub.status.busy": "2024-10-31T12:00:53.204499Z",
     "iopub.status.idle": "2024-10-31T12:00:53.450050Z",
     "shell.execute_reply": "2024-10-31T12:00:53.448948Z"
    },
    "papermill": {
     "duration": 0.267559,
     "end_time": "2024-10-31T12:00:53.452816",
     "exception": false,
     "start_time": "2024-10-31T12:00:53.185257",
     "status": "completed"
    },
    "tags": []
   },
   "outputs": [
    {
     "data": {
      "image/png": "[encoded data removed]",
      "text/plain": [
       "<Figure size 640x480 with 1 Axes>"
      ]
     },
     "metadata": {},
     "output_type": "display_data"
    }
   ],
   "source": [
    "#CM matrix\n",
    "matrix_xgb = confusion_matrix(y_test, y_pred_xgb)\n",
    "cm_xgb = pd.DataFrame(matrix_xgb, index=['not_fraud', 'fraud'], columns=['not_fraud', 'fraud'])\n",
    "\n",
    "sns.heatmap(cm_xgb, annot=True, cbar=None, cmap=\"Blues\", fmt = 'g')\n",
    "plt.title(\"Confusion Matrix XGBoost\"), plt.tight_layout()\n",
    "plt.ylabel(\"True Class\"), plt.xlabel(\"Predicted Class\")\n",
    "plt.show()"
   ]
  },
  {
   "cell_type": "code",
   "execution_count": 25,
   "id": "562640e9",
   "metadata": {
    "execution": {
     "iopub.execute_input": "2024-10-31T12:00:53.490754Z",
     "iopub.status.busy": "2024-10-31T12:00:53.490264Z",
     "iopub.status.idle": "2024-10-31T12:00:53.516051Z",
     "shell.execute_reply": "2024-10-31T12:00:53.514392Z"
    },
    "papermill": {
     "duration": 0.047693,
     "end_time": "2024-10-31T12:00:53.518536",
     "exception": false,
     "start_time": "2024-10-31T12:00:53.470843",
     "status": "completed"
    },
    "tags": []
   },
   "outputs": [
    {
     "name": "stdout",
     "output_type": "stream",
     "text": [
      "AUC XGBoost : 0.9747832939322301\n"
     ]
    }
   ],
   "source": [
    "#AUC\n",
    "y_pred_xgb_proba = model1.predict_proba(X_test)[::,1]\n",
    "fpr_xgb, tpr_xgb, _ = metrics.roc_curve(y_test,  y_pred_xgb_proba)\n",
    "auc_xgb = metrics.roc_auc_score(y_test, y_pred_xgb_proba)\n",
    "print(\"AUC XGBoost :\", auc_xgb)"
   ]
  },
  {
   "cell_type": "code",
   "execution_count": 26,
   "id": "59178595",
   "metadata": {
    "execution": {
     "iopub.execute_input": "2024-10-31T12:00:53.556507Z",
     "iopub.status.busy": "2024-10-31T12:00:53.556079Z",
     "iopub.status.idle": "2024-10-31T12:00:53.866933Z",
     "shell.execute_reply": "2024-10-31T12:00:53.865652Z"
    },
    "papermill": {
     "duration": 0.332764,
     "end_time": "2024-10-31T12:00:53.869399",
     "exception": false,
     "start_time": "2024-10-31T12:00:53.536635",
     "status": "completed"
    },
    "tags": []
   },
   "outputs": [
    {
     "data": {
      "image/png": "[encoded data removed]",
      "text/plain": [
       "<Figure size 640x480 with 1 Axes>"
      ]
     },
     "metadata": {},
     "output_type": "display_data"
    }
   ],
   "source": [
    "#ROC\n",
    "plt.plot(fpr_xgb,tpr_xgb,label=\"XGBoost, auc={:.3f})\".format(auc_xgb))\n",
    "plt.plot([0, 1], [0, 1], 'k--')\n",
    "plt.xlabel('False positive rate')\n",
    "plt.ylabel('True positive rate')\n",
    "plt.title('XGBoost ROC curve')\n",
    "plt.legend(loc=4)\n",
    "plt.show()"
   ]
  },
  {
   "cell_type": "code",
   "execution_count": 27,
   "id": "1c21965f",
   "metadata": {
    "execution": {
     "iopub.execute_input": "2024-10-31T12:00:53.910872Z",
     "iopub.status.busy": "2024-10-31T12:00:53.910404Z",
     "iopub.status.idle": "2024-10-31T12:00:54.182057Z",
     "shell.execute_reply": "2024-10-31T12:00:54.180810Z"
    },
    "papermill": {
     "duration": 0.296338,
     "end_time": "2024-10-31T12:00:54.185078",
     "exception": false,
     "start_time": "2024-10-31T12:00:53.888740",
     "status": "completed"
    },
    "tags": []
   },
   "outputs": [
    {
     "data": {
      "image/png": "[encoded data removed]",
      "text/plain": [
       "<Figure size 640x480 with 1 Axes>"
      ]
     },
     "metadata": {},
     "output_type": "display_data"
    }
   ],
   "source": [
    "xgb_precision, xgb_recall, _ = precision_recall_curve(y_test, y_pred_xgb_proba)\n",
    "no_skill = len(y_test[y_test==1]) / len(y_test)\n",
    "plt.plot([0, 1], [no_skill, no_skill], linestyle='--', color='black', label='No Skill')\n",
    "plt.plot(xgb_recall, xgb_precision, color='orange', label='XGB')\n",
    "plt.xlabel('Recall')\n",
    "plt.ylabel('Precision')\n",
    "plt.title('Precision-Recall curve')\n",
    "plt.legend()\n",
    "plt.show()"
   ]
  },
  {
   "cell_type": "markdown",
   "id": "a421c724",
   "metadata": {
    "papermill": {
     "duration": 0.018827,
     "end_time": "2024-10-31T12:00:54.223170",
     "exception": false,
     "start_time": "2024-10-31T12:00:54.204343",
     "status": "completed"
    },
    "tags": []
   },
   "source": [
    "Classification metrics for XGBoost (rounded down) :\n",
    "\n",
    "Accuracy : 0.95\n",
    "F1 score : 0.93\n",
    "AUC : 0.97"
   ]
  },
  {
   "cell_type": "markdown",
   "id": "e0e6105e",
   "metadata": {
    "papermill": {
     "duration": 0.019607,
     "end_time": "2024-10-31T12:00:54.262774",
     "exception": false,
     "start_time": "2024-10-31T12:00:54.243167",
     "status": "completed"
    },
    "tags": []
   },
   "source": [
    "# Multilayer Neural Network with Tensorflow/Keras"
   ]
  },
  {
   "cell_type": "code",
   "execution_count": 28,
   "id": "bbc5c1d4",
   "metadata": {
    "execution": {
     "iopub.execute_input": "2024-10-31T12:00:54.304902Z",
     "iopub.status.busy": "2024-10-31T12:00:54.304335Z",
     "iopub.status.idle": "2024-10-31T12:00:54.488942Z",
     "shell.execute_reply": "2024-10-31T12:00:54.487423Z"
    },
    "papermill": {
     "duration": 0.21027,
     "end_time": "2024-10-31T12:00:54.492458",
     "exception": false,
     "start_time": "2024-10-31T12:00:54.282188",
     "status": "completed"
    },
    "tags": []
   },
   "outputs": [],
   "source": [
    "#train the model\n",
    "model = Sequential()\n",
    "model.add(Dense(32, input_shape=(29,), activation='relu')),\n",
    "model.add(Dropout(0.2)),\n",
    "model.add(Dense(16, activation='relu')),\n",
    "model.add(Dropout(0.2)),\n",
    "model.add(Dense(8, activation='relu')),\n",
    "model.add(Dropout(0.2)),\n",
    "model.add(Dense(4, activation='relu')),\n",
    "model.add(Dropout(0.2)),\n",
    "model.add(Dense(1, activation='sigmoid'))"
   ]
  },
  {
   "cell_type": "code",
   "execution_count": 29,
   "id": "7bc35c47",
   "metadata": {
    "execution": {
     "iopub.execute_input": "2024-10-31T12:00:54.535586Z",
     "iopub.status.busy": "2024-10-31T12:00:54.534494Z",
     "iopub.status.idle": "2024-10-31T12:00:54.552976Z",
     "shell.execute_reply": "2024-10-31T12:00:54.551384Z"
    },
    "papermill": {
     "duration": 0.043801,
     "end_time": "2024-10-31T12:00:54.556404",
     "exception": false,
     "start_time": "2024-10-31T12:00:54.512603",
     "status": "completed"
    },
    "tags": []
   },
   "outputs": [],
   "source": [
    "opt = tf.keras.optimizers.Adam(learning_rate=0.001) #optimizer\n",
    "\n",
    "model.compile(optimizer=opt, loss=tf.keras.losses.BinaryCrossentropy(), metrics=['accuracy']) #metrics"
   ]
  },
  {
   "cell_type": "code",
   "execution_count": 30,
   "id": "4208e75e",
   "metadata": {
    "execution": {
     "iopub.execute_input": "2024-10-31T12:00:54.599871Z",
     "iopub.status.busy": "2024-10-31T12:00:54.598586Z",
     "iopub.status.idle": "2024-10-31T12:00:54.605583Z",
     "shell.execute_reply": "2024-10-31T12:00:54.604223Z"
    },
    "papermill": {
     "duration": 0.031954,
     "end_time": "2024-10-31T12:00:54.608347",
     "exception": false,
     "start_time": "2024-10-31T12:00:54.576393",
     "status": "completed"
    },
    "tags": []
   },
   "outputs": [],
   "source": [
    "earlystopper = tf.keras.callbacks.EarlyStopping(monitor='val_accuracy', min_delta=0, patience=15, verbose=1,mode='auto', baseline=None, restore_best_weights=False)"
   ]
  },
  {
   "cell_type": "code",
   "execution_count": 31,
   "id": "a1fc04b6",
   "metadata": {
    "execution": {
     "iopub.execute_input": "2024-10-31T12:00:54.652021Z",
     "iopub.status.busy": "2024-10-31T12:00:54.650628Z",
     "iopub.status.idle": "2024-10-31T12:01:00.367930Z",
     "shell.execute_reply": "2024-10-31T12:01:00.366497Z"
    },
    "papermill": {
     "duration": 5.742094,
     "end_time": "2024-10-31T12:01:00.370978",
     "exception": false,
     "start_time": "2024-10-31T12:00:54.628884",
     "status": "completed"
    },
    "tags": []
   },
   "outputs": [],
   "source": [
    "history = model.fit(X_train.values, y_train.values, epochs = 6, batch_size=5, validation_split = 0.15, verbose = 0,\n",
    "                    callbacks = [earlystopper])\n",
    "history_dict = history.history"
   ]
  },
  {
   "cell_type": "code",
   "execution_count": 32,
   "id": "161d1194",
   "metadata": {
    "execution": {
     "iopub.execute_input": "2024-10-31T12:01:00.412489Z",
     "iopub.status.busy": "2024-10-31T12:01:00.412023Z",
     "iopub.status.idle": "2024-10-31T12:01:00.729037Z",
     "shell.execute_reply": "2024-10-31T12:01:00.727704Z"
    },
    "papermill": {
     "duration": 0.340594,
     "end_time": "2024-10-31T12:01:00.731811",
     "exception": false,
     "start_time": "2024-10-31T12:01:00.391217",
     "status": "completed"
    },
    "tags": []
   },
   "outputs": [
    {
     "data": {
      "text/plain": [
       "Text(0.5, 0, 'Epochs')"
      ]
     },
     "execution_count": 32,
     "metadata": {},
     "output_type": "execute_result"
    },
    {
     "data": {
      "image/png": "[encoded data removed]",
      "text/plain": [
       "<Figure size 640x480 with 1 Axes>"
      ]
     },
     "metadata": {},
     "output_type": "display_data"
    }
   ],
   "source": [
    "loss_values = history_dict['loss']\n",
    "val_loss_values=history_dict['val_loss']\n",
    "plt.plot(loss_values,'b',label='training loss')\n",
    "plt.plot(val_loss_values,'r',label='val training loss')\n",
    "plt.legend()\n",
    "plt.xlabel(\"Epochs\")"
   ]
  },
  {
   "cell_type": "code",
   "execution_count": 33,
   "id": "94fdcc68",
   "metadata": {
    "execution": {
     "iopub.execute_input": "2024-10-31T12:01:00.774647Z",
     "iopub.status.busy": "2024-10-31T12:01:00.773477Z",
     "iopub.status.idle": "2024-10-31T12:01:01.095361Z",
     "shell.execute_reply": "2024-10-31T12:01:01.093553Z"
    },
    "papermill": {
     "duration": 0.347544,
     "end_time": "2024-10-31T12:01:01.099387",
     "exception": false,
     "start_time": "2024-10-31T12:01:00.751843",
     "status": "completed"
    },
    "tags": []
   },
   "outputs": [
    {
     "data": {
      "text/plain": [
       "Text(0.5, 0, 'Epochs')"
      ]
     },
     "execution_count": 33,
     "metadata": {},
     "output_type": "execute_result"
    },
    {
     "data": {
      "image/png": "[encoded data removed]",
      "text/plain": [
       "<Figure size 640x480 with 1 Axes>"
      ]
     },
     "metadata": {},
     "output_type": "display_data"
    }
   ],
   "source": [
    "accuracy_values = history_dict['accuracy']\n",
    "val_accuracy_values=history_dict['val_accuracy']\n",
    "plt.plot(val_accuracy_values,'-r',label='val_accuracy')\n",
    "plt.plot(accuracy_values,'-b',label='accuracy')\n",
    "plt.legend()\n",
    "plt.xlabel(\"Epochs\")"
   ]
  },
  {
   "cell_type": "code",
   "execution_count": 34,
   "id": "ce54f819",
   "metadata": {
    "execution": {
     "iopub.execute_input": "2024-10-31T12:01:01.154805Z",
     "iopub.status.busy": "2024-10-31T12:01:01.154253Z",
     "iopub.status.idle": "2024-10-31T12:01:01.402165Z",
     "shell.execute_reply": "2024-10-31T12:01:01.400743Z"
    },
    "papermill": {
     "duration": 0.279919,
     "end_time": "2024-10-31T12:01:01.405269",
     "exception": false,
     "start_time": "2024-10-31T12:01:01.125350",
     "status": "completed"
    },
    "tags": []
   },
   "outputs": [
    {
     "name": "stdout",
     "output_type": "stream",
     "text": [
      "\u001b[1m10/10\u001b[0m \u001b[32m━━━━━━━━━━━━━━━━━━━━\u001b[0m\u001b[37m\u001b[0m \u001b[1m0s\u001b[0m 9ms/step\n"
     ]
    }
   ],
   "source": [
    "#predictions\n",
    "y_pred_nn = model.predict(X_test)\n",
    "y_pred_nn = (y_pred_nn > 0.5).astype(int)  # For binary classification"
   ]
  },
  {
   "cell_type": "code",
   "execution_count": 35,
   "id": "750ebac2",
   "metadata": {
    "execution": {
     "iopub.execute_input": "2024-10-31T12:01:01.450092Z",
     "iopub.status.busy": "2024-10-31T12:01:01.449508Z",
     "iopub.status.idle": "2024-10-31T12:01:01.469085Z",
     "shell.execute_reply": "2024-10-31T12:01:01.467586Z"
    },
    "papermill": {
     "duration": 0.045697,
     "end_time": "2024-10-31T12:01:01.472426",
     "exception": false,
     "start_time": "2024-10-31T12:01:01.426729",
     "status": "completed"
    },
    "tags": []
   },
   "outputs": [
    {
     "name": "stdout",
     "output_type": "stream",
     "text": [
      "Accuracy Neural Net: 0.9459459459459459\n",
      "Precision Neural Net: 0.9791666666666666\n",
      "Recall Neural Net: 0.8703703703703703\n",
      "F1 Score Neural Net: 0.9215686274509804\n"
     ]
    }
   ],
   "source": [
    "#scores\n",
    "print(\"Accuracy Neural Net:\",metrics.accuracy_score(y_test, y_pred_nn))\n",
    "print(\"Precision Neural Net:\",metrics.precision_score(y_test, y_pred_nn))\n",
    "print(\"Recall Neural Net:\",metrics.recall_score(y_test, y_pred_nn))\n",
    "print(\"F1 Score Neural Net:\",metrics.f1_score(y_test, y_pred_nn))"
   ]
  },
  {
   "cell_type": "code",
   "execution_count": 36,
   "id": "0684d9bf",
   "metadata": {
    "execution": {
     "iopub.execute_input": "2024-10-31T12:01:01.530875Z",
     "iopub.status.busy": "2024-10-31T12:01:01.529865Z",
     "iopub.status.idle": "2024-10-31T12:01:01.791280Z",
     "shell.execute_reply": "2024-10-31T12:01:01.789789Z"
    },
    "papermill": {
     "duration": 0.291383,
     "end_time": "2024-10-31T12:01:01.794424",
     "exception": false,
     "start_time": "2024-10-31T12:01:01.503041",
     "status": "completed"
    },
    "tags": []
   },
   "outputs": [
    {
     "data": {
      "image/png": "[encoded data removed]",
      "text/plain": [
       "<Figure size 640x480 with 1 Axes>"
      ]
     },
     "metadata": {},
     "output_type": "display_data"
    }
   ],
   "source": [
    "#CM matrix\n",
    "matrix_nn = confusion_matrix(y_test, y_pred_nn)\n",
    "cm_nn = pd.DataFrame(matrix_nn, index=['not_fraud', 'fraud'], columns=['not_fraud', 'fraud'])\n",
    "\n",
    "sns.heatmap(cm_nn, annot=True, cbar=None, cmap=\"Blues\", fmt = 'g')\n",
    "plt.title(\"Confusion Matrix Neural Network\"), plt.tight_layout()\n",
    "plt.ylabel(\"True Class\"), plt.xlabel(\"Predicted Class\")\n",
    "plt.show()"
   ]
  },
  {
   "cell_type": "code",
   "execution_count": 37,
   "id": "51d6977b",
   "metadata": {
    "execution": {
     "iopub.execute_input": "2024-10-31T12:01:01.843481Z",
     "iopub.status.busy": "2024-10-31T12:01:01.842920Z",
     "iopub.status.idle": "2024-10-31T12:01:01.951210Z",
     "shell.execute_reply": "2024-10-31T12:01:01.949889Z"
    },
    "papermill": {
     "duration": 0.135065,
     "end_time": "2024-10-31T12:01:01.953993",
     "exception": false,
     "start_time": "2024-10-31T12:01:01.818928",
     "status": "completed"
    },
    "tags": []
   },
   "outputs": [
    {
     "name": "stdout",
     "output_type": "stream",
     "text": [
      "\u001b[1m10/10\u001b[0m \u001b[32m━━━━━━━━━━━━━━━━━━━━\u001b[0m\u001b[37m\u001b[0m \u001b[1m0s\u001b[0m 1ms/step \n",
      "AUC Neural Net:  0.9806934594168637\n"
     ]
    }
   ],
   "source": [
    "#AUC\n",
    "y_pred_nn_proba = model.predict(X_test)\n",
    "fpr_keras, tpr_keras, thresholds_keras = roc_curve(y_test,y_pred_nn_proba)\n",
    "auc_keras = auc(fpr_keras, tpr_keras)\n",
    "print('AUC Neural Net: ', auc_keras)"
   ]
  },
  {
   "cell_type": "code",
   "execution_count": 38,
   "id": "6bf10fcd",
   "metadata": {
    "execution": {
     "iopub.execute_input": "2024-10-31T12:01:02.000868Z",
     "iopub.status.busy": "2024-10-31T12:01:01.999775Z",
     "iopub.status.idle": "2024-10-31T12:01:02.377834Z",
     "shell.execute_reply": "2024-10-31T12:01:02.376509Z"
    },
    "papermill": {
     "duration": 0.404845,
     "end_time": "2024-10-31T12:01:02.380835",
     "exception": false,
     "start_time": "2024-10-31T12:01:01.975990",
     "status": "completed"
    },
    "tags": []
   },
   "outputs": [
    {
     "data": {
      "text/plain": [
       "<function matplotlib.pyplot.show(close=None, block=None)>"
      ]
     },
     "execution_count": 38,
     "metadata": {},
     "output_type": "execute_result"
    },
    {
     "data": {
      "image/png": "[encoded data removed]",
      "text/plain": [
       "<Figure size 640x480 with 1 Axes>"
      ]
     },
     "metadata": {},
     "output_type": "display_data"
    }
   ],
   "source": [
    "#ROC\n",
    "plt.figure(1)\n",
    "plt.plot([0, 1], [0, 1], 'k--')\n",
    "plt.plot(fpr_keras, tpr_keras, label='Keras (area = {:.3f})'.format(auc_keras))\n",
    "plt.xlabel('False positive rate')\n",
    "plt.ylabel('True positive rate')\n",
    "plt.title('Neural Net ROC curve')\n",
    "plt.legend(loc='best')\n",
    "plt.show"
   ]
  },
  {
   "cell_type": "code",
   "execution_count": 39,
   "id": "c54f84b7",
   "metadata": {
    "execution": {
     "iopub.execute_input": "2024-10-31T12:01:02.430811Z",
     "iopub.status.busy": "2024-10-31T12:01:02.429880Z",
     "iopub.status.idle": "2024-10-31T12:01:02.764062Z",
     "shell.execute_reply": "2024-10-31T12:01:02.762778Z"
    },
    "papermill": {
     "duration": 0.362399,
     "end_time": "2024-10-31T12:01:02.767047",
     "exception": false,
     "start_time": "2024-10-31T12:01:02.404648",
     "status": "completed"
    },
    "tags": []
   },
   "outputs": [
    {
     "data": {
      "image/png": "[encoded data removed]",
      "text/plain": [
       "<Figure size 640x480 with 1 Axes>"
      ]
     },
     "metadata": {},
     "output_type": "display_data"
    }
   ],
   "source": [
    "nn_precision, nn_recall, _ = precision_recall_curve(y_test, y_pred_nn_proba)\n",
    "no_skill = len(y_test[y_test==1]) / len(y_test)\n",
    "plt.plot([0, 1], [no_skill, no_skill], linestyle='--', color='black', label='No Skill')\n",
    "plt.plot(nn_recall, nn_precision, color='orange', label='TF NN')\n",
    "plt.xlabel('Recall')\n",
    "plt.ylabel('Precision')\n",
    "plt.title('Precision-Recall curve')\n",
    "plt.legend()\n",
    "plt.show()"
   ]
  },
  {
   "cell_type": "markdown",
   "id": "00d59a48",
   "metadata": {
    "papermill": {
     "duration": 0.02331,
     "end_time": "2024-10-31T12:01:02.813824",
     "exception": false,
     "start_time": "2024-10-31T12:01:02.790514",
     "status": "completed"
    },
    "tags": []
   },
   "source": [
    "Classification metrics for Neural Network (rounded down) :\n",
    "\n",
    "Accuracy : 0.95\n",
    "F1 score : 0.94\n",
    "AUC : 0.98"
   ]
  },
  {
   "cell_type": "code",
   "execution_count": 40,
   "id": "e18f75c2",
   "metadata": {
    "execution": {
     "iopub.execute_input": "2024-10-31T12:01:02.866152Z",
     "iopub.status.busy": "2024-10-31T12:01:02.864469Z",
     "iopub.status.idle": "2024-10-31T12:01:03.328419Z",
     "shell.execute_reply": "2024-10-31T12:01:03.327098Z"
    },
    "papermill": {
     "duration": 0.494408,
     "end_time": "2024-10-31T12:01:03.331421",
     "exception": false,
     "start_time": "2024-10-31T12:01:02.837013",
     "status": "completed"
    },
    "tags": []
   },
   "outputs": [
    {
     "name": "stdout",
     "output_type": "stream",
     "text": [
      "                Accuracy  Precision    Recall  F1 Score       AUC\n",
      "Model                                                            \n",
      "XGBoost         0.949324   0.969697  0.888889  0.927536  0.974783\n",
      "Neural Network  0.945946   0.979167  0.870370  0.921569  0.980693\n"
     ]
    },
    {
     "data": {
      "image/png": "[encoded data removed]",
      "text/plain": [
       "<Figure size 1000x600 with 1 Axes>"
      ]
     },
     "metadata": {},
     "output_type": "display_data"
    }
   ],
   "source": [
    "# Consolidating metrics for comparison\n",
    "xgb_metrics = {\n",
    "    \"Model\": \"XGBoost\",\n",
    "    \"Accuracy\": metrics.accuracy_score(y_test, y_pred_xgb),\n",
    "    \"Precision\": metrics.precision_score(y_test, y_pred_xgb),\n",
    "    \"Recall\": metrics.recall_score(y_test, y_pred_xgb),\n",
    "    \"F1 Score\": metrics.f1_score(y_test, y_pred_xgb),\n",
    "    \"AUC\": auc_xgb\n",
    "}\n",
    "\n",
    "nn_metrics = {\n",
    "    \"Model\": \"Neural Network\",\n",
    "    \"Accuracy\": metrics.accuracy_score(y_test, y_pred_nn),\n",
    "    \"Precision\": metrics.precision_score(y_test, y_pred_nn),\n",
    "    \"Recall\": metrics.recall_score(y_test, y_pred_nn),\n",
    "    \"F1 Score\": metrics.f1_score(y_test, y_pred_nn),\n",
    "    \"AUC\": auc_keras\n",
    "}\n",
    "\n",
    "# Creating DataFrame\n",
    "comparison_df = pd.DataFrame([xgb_metrics, nn_metrics]).set_index(\"Model\")\n",
    "\n",
    "# Displaying the results in tabular form\n",
    "print(comparison_df)\n",
    "\n",
    "# Visualizing the comparison with annotations\n",
    "ax = comparison_df.plot(kind=\"bar\", figsize=(10, 6), colormap=\"viridis\", legend=True)\n",
    "plt.title(\"Comparison of XGBoost and Neural Network Performance\")\n",
    "plt.ylabel(\"Score\")\n",
    "\n",
    "# Adding numerical values on each bar\n",
    "for p in ax.patches:\n",
    "    ax.annotate(\n",
    "        f\"{p.get_height():.2f}\",  # Format to 2 decimal places\n",
    "        (p.get_x() + p.get_width() / 2, p.get_height()),\n",
    "        ha=\"center\", va=\"bottom\"\n",
    "    )\n",
    "\n",
    "plt.show()\n"
   ]
  }
 ],
 "metadata": {
  "kaggle": {
   "accelerator": "none",
   "dataSources": [
    {
     "datasetId": 5983356,
     "sourceId": 9769095,
     "sourceType": "datasetVersion"
    },
    {
     "datasetId": 5985378,
     "sourceId": 9771723,
     "sourceType": "datasetVersion"
    }
   ],
   "dockerImageVersionId": 30786,
   "isGpuEnabled": false,
   "isInternetEnabled": false,
   "language": "python",
   "sourceType": "notebook"
  },
  "kernelspec": {
   "display_name": "Python 3",
   "language": "python",
   "name": "python3"
  },
  "language_info": {
   "codemirror_mode": {
    "name": "ipython",
    "version": 3
   },
   "file_extension": ".py",
   "mimetype": "text/x-python",
   "name": "python",
   "nbconvert_exporter": "python",
   "pygments_lexer": "ipython3",
   "version": "3.10.14"
  },
  "papermill": {
   "default_parameters": {},
   "duration": 45.563849,
   "end_time": "2024-10-31T12:01:06.247293",
   "environment_variables": {},
   "exception": null,
   "input_path": "__notebook__.ipynb",
   "output_path": "__notebook__.ipynb",
   "parameters": {},
   "start_time": "2024-10-31T12:00:20.683444",
   "version": "2.6.0"
  }
 },
 "nbformat": 4,
 "nbformat_minor": 5
}
